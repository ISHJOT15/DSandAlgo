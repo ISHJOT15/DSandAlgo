{
 "cells": [
  {
   "cell_type": "code",
   "execution_count": 2,
   "metadata": {},
   "outputs": [
    {
     "name": "stdout",
     "output_type": "stream",
     "text": [
      "['a', 'b', 'c', 'd', 'e']\n"
     ]
    }
   ],
   "source": [
    "# strings\n",
    "strings = ['a', 'b', 'c', 'd']\n",
    "\n",
    "#push\n",
    "strings.append('e')\n",
    "\n",
    "print(strings)"
   ]
  },
  {
   "cell_type": "code",
   "execution_count": 5,
   "metadata": {},
   "outputs": [
    {
     "name": "stdout",
     "output_type": "stream",
     "text": [
      "['x', 'a', 'x', 'b', 'c', 'd', 'e']\n"
     ]
    }
   ],
   "source": [
    "strings.insert(0,'x')\n",
    "print(strings)"
   ]
  },
  {
   "cell_type": "code",
   "execution_count": 6,
   "metadata": {},
   "outputs": [
    {
     "data": {
      "text/plain": [
       "'x'"
      ]
     },
     "execution_count": 6,
     "metadata": {},
     "output_type": "execute_result"
    }
   ],
   "source": [
    "strings.pop(2)"
   ]
  },
  {
   "cell_type": "code",
   "execution_count": 7,
   "metadata": {},
   "outputs": [
    {
     "data": {
      "text/plain": [
       "['x', 'a', 'b', 'c', 'd', 'e']"
      ]
     },
     "execution_count": 7,
     "metadata": {},
     "output_type": "execute_result"
    }
   ],
   "source": [
    "strings"
   ]
  },
  {
   "cell_type": "code",
   "execution_count": 10,
   "metadata": {},
   "outputs": [],
   "source": [
    "strings.insert(2, 'alien')"
   ]
  },
  {
   "cell_type": "code",
   "execution_count": 11,
   "metadata": {},
   "outputs": [
    {
     "name": "stdout",
     "output_type": "stream",
     "text": [
      "['x', 'a', 'alien', 'b', 'c', 'd', 'e']\n"
     ]
    }
   ],
   "source": [
    "print(strings)"
   ]
  },
  {
   "cell_type": "code",
   "execution_count": 12,
   "metadata": {},
   "outputs": [
    {
     "data": {
      "text/plain": [
       "'x'"
      ]
     },
     "execution_count": 12,
     "metadata": {},
     "output_type": "execute_result"
    }
   ],
   "source": [
    "strings.pop(0)"
   ]
  },
  {
   "cell_type": "code",
   "execution_count": 13,
   "metadata": {},
   "outputs": [
    {
     "name": "stdout",
     "output_type": "stream",
     "text": [
      "['a', 'alien', 'b', 'c', 'd', 'e']\n"
     ]
    }
   ],
   "source": [
    "print(strings)"
   ]
  },
  {
   "cell_type": "code",
   "execution_count": 5,
   "metadata": {},
   "outputs": [
    {
     "name": "stdout",
     "output_type": "stream",
     "text": [
      "<__main__.Array object at 0x000001DA00F33160>\n"
     ]
    }
   ],
   "source": [
    "class Array:\n",
    "    def __init__(self):\n",
    "        self.length = 0\n",
    "        self.data = {}\n",
    "        \n",
    "    def get(self, index):\n",
    "        return self.data[index]\n",
    "        \n",
    "    def push(self,item):\n",
    "        self.data[self.length] = item\n",
    "        self.length+=1\n",
    "        \n",
    "    def pop():\n",
    "        lastitem = self.data[self.length-1]\n",
    "        del self.data[self.length-1]\n",
    "        self.length-=1\n",
    "        return lastitem\n",
    "    \n",
    "    def delete(self, index):\n",
    "        deleteditem = self.data[index]\n",
    "        \n",
    "        for i in range(index, self.length-1):\n",
    "            self.data[i] = self.data[i+1]\n",
    "        \n",
    "        del self.data[self.length-1]\n",
    "        self.length-=1\n",
    "        return deleteditem\n",
    "    \n",
    "arr=Array()\n",
    "arr.push(3)\n",
    "arr.push('hi')\n",
    "arr.push(34)\n",
    "arr.push(20)\n",
    "arr.push('hey')\n",
    "arr.push('welcome')\n",
    "arr.delete(3)\n",
    "print(arr)"
   ]
  },
  {
   "cell_type": "code",
   "execution_count": 6,
   "metadata": {},
   "outputs": [
    {
     "name": "stdout",
     "output_type": "stream",
     "text": [
      "<__main__.Array object at 0x000001DA00F33160>\n"
     ]
    }
   ],
   "source": [
    "print(arr)"
   ]
  },
  {
   "cell_type": "code",
   "execution_count": 2,
   "metadata": {},
   "outputs": [
    {
     "name": "stdout",
     "output_type": "stream",
     "text": [
      "['l', 'l', 'l', 'o', 'K', ' ', 's', 'i', ' ', 'e', 'm', 'a', 'n', ' ', 'y', 'M']\n"
     ]
    }
   ],
   "source": [
    "# Reversing a string\n",
    "def reverse(stri):\n",
    "    mylist = []\n",
    "    for i in range(len(stri)-1,-1,-1):\n",
    "        mylist.append(stri[i])\n",
    "        b = str(mylist)\n",
    "    return b\n",
    "x = reverse(\"My name is Kolll\")\n",
    "print(x)"
   ]
  },
  {
   "cell_type": "code",
   "execution_count": 11,
   "metadata": {},
   "outputs": [
    {
     "name": "stdout",
     "output_type": "stream",
     "text": [
      "[1, 2, 3, 4, 5]\n",
      "[1, 2, 3, 4, 5]\n"
     ]
    }
   ],
   "source": [
    "list1 = [1,2,3,4,5]\n",
    "print(list1)\n",
    "print(str(list1))"
   ]
  },
  {
   "cell_type": "code",
   "execution_count": 14,
   "metadata": {},
   "outputs": [
    {
     "name": "stdout",
     "output_type": "stream",
     "text": [
      "<class 'str'>\n"
     ]
    }
   ],
   "source": [
    "print(type(str(list1)))"
   ]
  },
  {
   "cell_type": "code",
   "execution_count": 15,
   "metadata": {},
   "outputs": [
    {
     "name": "stdout",
     "output_type": "stream",
     "text": [
      "<class 'int'>\n"
     ]
    }
   ],
   "source": [
    "a = 20\n",
    "print(type(a))"
   ]
  },
  {
   "cell_type": "code",
   "execution_count": 16,
   "metadata": {},
   "outputs": [
    {
     "name": "stdout",
     "output_type": "stream",
     "text": [
      "20\n"
     ]
    }
   ],
   "source": [
    "b = str(a)\n",
    "print(b)"
   ]
  },
  {
   "cell_type": "code",
   "execution_count": 1,
   "metadata": {},
   "outputs": [
    {
     "name": "stdout",
     "output_type": "stream",
     "text": [
      "[1, 2, 3, 4, 5]\n"
     ]
    }
   ],
   "source": [
    "str1= '[1, 2, 3, 4, 5]'\n",
    "print(str1)"
   ]
  },
  {
   "cell_type": "code",
   "execution_count": null,
   "metadata": {},
   "outputs": [],
   "source": [
    "# Merging sorted arrays\n",
    "def mergearray1(a,b):\n",
    "    \n",
    "    if(len(a)==0 or len(b)==0):\n",
    "        return a+b\n",
    "    \n",
    "    myarray = []\n",
    "    i=0\n",
    "    j=0\n",
    "    \n",
    "    while i<len(a) and j<len(b):\n",
    "        if(a[i]<b[j]):\n",
    "            myarray.append(a[i])\n",
    "            i+=1\n",
    "            \n",
    "        elif(b[j]<a[i]):\n",
    "            myarray.append(b[j])\n",
    "            j+=1\n",
    "    return myarray\n",
    "\n",
    "a = [1,3,4,6,20]\n",
    "b = [2,3,4,5,6,9,11,76]\n",
    "x = mergearray1(a,b)\n",
    "print(x)"
   ]
  },
  {
   "cell_type": "markdown",
   "metadata": {},
   "source": [
    "## Hash tables"
   ]
  },
  {
   "cell_type": "code",
   "execution_count": 1,
   "metadata": {},
   "outputs": [
    {
     "name": "stdout",
     "output_type": "stream",
     "text": [
      "1\n"
     ]
    }
   ],
   "source": [
    "# First recurring character\n",
    "def func(mylist):\n",
    "\n",
    "  for i in range(0,len(mylist)):\n",
    "    for j in range(i+1,len(mylist)):\n",
    "      if mylist[i] == mylist[j]:\n",
    "        return mylist[i] \n",
    "  return 0\n",
    "\n",
    "def hashtable(mylist):\n",
    "  mydict = {}\n",
    "  for i in range(0,len(mylist)):\n",
    "    if mylist[i] in mydict:\n",
    "      return mylist[i]\n",
    "    else:\n",
    "      mydict[mylist[i]]=i\n",
    "  return 0\n",
    "  \n",
    "\n",
    "mylist = [2,1,1,2,3,4,5]\n",
    "x = hashtable(mylist)\n",
    "print(x)"
   ]
  },
  {
   "cell_type": "code",
   "execution_count": 2,
   "metadata": {},
   "outputs": [
    {
     "name": "stdout",
     "output_type": "stream",
     "text": [
      "1000\n",
      "{'bucket': 16, 'hashmap': [[], [], [], [['ora', 300]], [], [['banan', 200]], [['grapes', 1000], ['apples', 10]], [], [], [], [], [], [], [], [], []]}\n",
      "{'bucket': 16, 'hashmap': [[], [], [], [['ora', 300]], [], [['banan', 200]], [['grapes', 1000]], [], [], [], [], [], [], [], [], []]}\n"
     ]
    }
   ],
   "source": [
    "# Implementing hash tables\n",
    "class Hashtable:\n",
    "    def __init__(self):\n",
    "        \"\"\"\n",
    "        Create an array(self.mydict) with a bucket size - which is derived from the load factor.\n",
    "        The Load factor is a measure that decides when to increase the HashMap capacity to maintain the get() and put() operation complexity of O(1).\n",
    "        The default load factor of HashMap is 0.75f (75% of the map size).\n",
    "        Load Factor = (n/k)\n",
    "        where n is the number of max number of elements that can be stored dict\n",
    "        k is the bucket size\n",
    "        Optimal Load factor is around (2/3) such that the effect of hash collisions is minimum \n",
    "        \"\"\"\n",
    "        self.bucket = 16\n",
    "        self.hashmap = [[] for i in range(self.bucket)]\n",
    "    \n",
    "    def __str__(self):\n",
    "        return str(self.__dict__)\n",
    "\n",
    "    def hash(self, key):\n",
    "        return len(key) % self.bucket\n",
    "    \n",
    "    def put(self, key, value):\n",
    "        \"\"\"\n",
    "        value may already be present\n",
    "        \"\"\"\n",
    "        hash_value = self.hash(key)\n",
    "        reference = self.hashmap[hash_value]\n",
    "        for i in range(len(reference)):\n",
    "            if reference[i][0] == key:\n",
    "                reference[i][1] = value\n",
    "                return None\n",
    "        reference.append([key, value])\n",
    "        return None\n",
    "        \n",
    "    def get(self, key):\n",
    "        \"\"\"\n",
    "        Returns the value to which the specified key is mapped, or -1 if this map contains no mapping for the key\n",
    "        \"\"\"\n",
    "        hash_value = self.hash(key)\n",
    "        reference = self.hashmap[hash_value]\n",
    "        for i in range(len(reference)):\n",
    "            if reference[i][0] == key:\n",
    "                return reference[i][1]\n",
    "        return -1\n",
    "        \n",
    "    def remove(self, key):\n",
    "        \"\"\"\n",
    "        Removes the mapping of the specified value key if this map contains a mapping for the key\n",
    "        \"\"\"\n",
    "        hash_value = self.hash(key)\n",
    "        reference = self.hashmap[hash_value]\n",
    "        for i in range(len(reference)):\n",
    "            if reference[i][0] == key:\n",
    "                reference.pop(i)\n",
    "                return None\n",
    "        return None\n",
    "\n",
    "h=Hashtable()\n",
    "h.put('grapes',1000)\n",
    "h.put('apples',10)\n",
    "h.put('ora',300)\n",
    "h.put('banan',200)\n",
    "print(h.get('grapes'))\n",
    "print(h)\n",
    "h.remove('apples')\n",
    "print(h)"
   ]
  },
  {
   "cell_type": "markdown",
   "metadata": {},
   "source": [
    "## Linked Lists"
   ]
  },
  {
   "cell_type": "code",
   "execution_count": null,
   "metadata": {},
   "outputs": [],
   "source": [
    "class Node():\n",
    "    \n",
    "    def __init__(self, data):\n",
    "        self.data = data\n",
    "        self.next = None\n",
    "        \n",
    "class LinkedList():\n",
    "    \n",
    "    def __init__(self):\n",
    "        self.data = None\n",
    "        self.next = None\n",
    "    \n",
    "    "
   ]
  },
  {
   "cell_type": "code",
   "execution_count": null,
   "metadata": {},
   "outputs": [],
   "source": []
  }
 ],
 "metadata": {
  "kernelspec": {
   "display_name": "Python 3",
   "language": "python",
   "name": "python3"
  },
  "language_info": {
   "codemirror_mode": {
    "name": "ipython",
    "version": 3
   },
   "file_extension": ".py",
   "mimetype": "text/x-python",
   "name": "python",
   "nbconvert_exporter": "python",
   "pygments_lexer": "ipython3",
   "version": "3.8.3"
  }
 },
 "nbformat": 4,
 "nbformat_minor": 4
}
