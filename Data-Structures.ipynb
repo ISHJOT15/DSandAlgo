{
 "cells": [
  {
   "cell_type": "code",
   "execution_count": 2,
   "metadata": {},
   "outputs": [
    {
     "name": "stdout",
     "output_type": "stream",
     "text": [
      "['a', 'b', 'c', 'd', 'e']\n"
     ]
    }
   ],
   "source": [
    "# strings\n",
    "'''strings = ['a', 'b', 'c', 'd']\n",
    "\n",
    "#push\n",
    "strings.append('e')\n",
    "\n",
    "print(strings)"
   ]
  },
  {
   "cell_type": "code",
   "execution_count": null,
   "outputs": [],
   "source": [
    "strings.insert(0,'x')\n",
    "print(strings)"
   ],
   "metadata": {
    "collapsed": false,
    "pycharm": {
     "name": "#%%\n"
    }
   }
  },
  {
   "cell_type": "code",
   "execution_count": null,
   "outputs": [],
   "source": [
    "strings.pop(2)"
   ],
   "metadata": {
    "collapsed": false,
    "pycharm": {
     "name": "#%%\n"
    }
   }
  },
  {
   "cell_type": "code",
   "execution_count": null,
   "outputs": [],
   "source": [
    "strings"
   ],
   "metadata": {
    "collapsed": false,
    "pycharm": {
     "name": "#%%\n"
    }
   }
  },
  {
   "cell_type": "code",
   "execution_count": null,
   "outputs": [],
   "source": [
    "strings.insert(2, 'alien')"
   ],
   "metadata": {
    "collapsed": false,
    "pycharm": {
     "name": "#%%\n"
    }
   }
  },
  {
   "cell_type": "code",
   "execution_count": null,
   "outputs": [],
   "source": [
    "print(strings)"
   ],
   "metadata": {
    "collapsed": false,
    "pycharm": {
     "name": "#%%\n"
    }
   }
  },
  {
   "cell_type": "code",
   "execution_count": null,
   "outputs": [],
   "source": [
    "strings.pop(0)"
   ],
   "metadata": {
    "collapsed": false,
    "pycharm": {
     "name": "#%%\n"
    }
   }
  },
  {
   "cell_type": "code",
   "execution_count": null,
   "outputs": [],
   "source": [
    "print(strings)"
   ],
   "metadata": {
    "collapsed": false,
    "pycharm": {
     "name": "#%%\n"
    }
   }
  },
  {
   "cell_type": "code",
   "execution_count": null,
   "outputs": [],
   "source": [
    "class Array:\n",
    "    def __init__(self):\n",
    "        self.length = 0\n",
    "        self.data = {}\n",
    "\n",
    "    def get(self, index):\n",
    "        return self.data[index]\n",
    "\n",
    "    def push(self,item):\n",
    "        self.data[self.length] = item\n",
    "        self.length+=1\n",
    "\n",
    "    def pop():\n",
    "        lastitem = self.data[self.length-1]\n",
    "        del self.data[self.length-1]\n",
    "        self.length-=1\n",
    "        return lastitem\n",
    "\n",
    "    def delete(self, index):\n",
    "        deleteditem = self.data[index]\n",
    "\n",
    "        for i in range(index, self.length-1):\n",
    "            self.data[i] = self.data[i+1]\n",
    "\n",
    "        del self.data[self.length-1]\n",
    "        self.length-=1\n",
    "        return deleteditem\n",
    "\n",
    "arr=Array()\n",
    "arr.push(3)\n",
    "arr.push('hi')\n",
    "arr.push(34)\n",
    "arr.push(20)\n",
    "arr.push('hey')\n",
    "arr.push('welcome')\n",
    "arr.delete(3)\n",
    "print(arr)"
   ],
   "metadata": {
    "collapsed": false,
    "pycharm": {
     "name": "#%%\n"
    }
   }
  },
  {
   "cell_type": "code",
   "execution_count": null,
   "outputs": [],
   "source": [
    "print(arr)"
   ],
   "metadata": {
    "collapsed": false,
    "pycharm": {
     "name": "#%%\n"
    }
   }
  },
  {
   "cell_type": "code",
   "execution_count": null,
   "outputs": [],
   "source": [
    "# Reversing a string\n",
    "def reverse(stri):\n",
    "    mylist = []\n",
    "    for i in range(len(stri)-1,-1,-1):\n",
    "        mylist.append(stri[i])\n",
    "        b = str(mylist)\n",
    "    return b\n",
    "x = reverse(\"My name is Kolll\")\n",
    "print(x)"
   ],
   "metadata": {
    "collapsed": false,
    "pycharm": {
     "name": "#%%\n"
    }
   }
  },
  {
   "cell_type": "code",
   "execution_count": null,
   "outputs": [],
   "source": [
    "list1 = [1,2,3,4,5]\n",
    "print(list1)\n",
    "print(str(list1))"
   ],
   "metadata": {
    "collapsed": false,
    "pycharm": {
     "name": "#%%\n"
    }
   }
  },
  {
   "cell_type": "code",
   "execution_count": null,
   "outputs": [],
   "source": [
    "print(type(str(list1)))"
   ],
   "metadata": {
    "collapsed": false,
    "pycharm": {
     "name": "#%%\n"
    }
   }
  },
  {
   "cell_type": "code",
   "execution_count": null,
   "outputs": [],
   "source": [
    "a = 20\n",
    "print(type(a))"
   ],
   "metadata": {
    "collapsed": false,
    "pycharm": {
     "name": "#%%\n"
    }
   }
  },
  {
   "cell_type": "code",
   "execution_count": null,
   "outputs": [],
   "source": [
    "b = str(a)\n",
    "print(b)"
   ],
   "metadata": {
    "collapsed": false,
    "pycharm": {
     "name": "#%%\n"
    }
   }
  },
  {
   "cell_type": "code",
   "execution_count": null,
   "outputs": [],
   "source": [
    "str1= '[1, 2, 3, 4, 5]'\n",
    "print(str1)"
   ],
   "metadata": {
    "collapsed": false,
    "pycharm": {
     "name": "#%%\n"
    }
   }
  },
  {
   "cell_type": "code",
   "execution_count": null,
   "outputs": [],
   "source": [
    "# Merging sorted arrays\n",
    "def mergearray1(a,b):\n",
    "\n",
    "    if(len(a)==0 or len(b)==0):\n",
    "        return a+b\n",
    "\n",
    "    myarray = []\n",
    "    i=0\n",
    "    j=0\n",
    "\n",
    "    while i<len(a) and j<len(b):\n",
    "        if(a[i]<b[j]):\n",
    "            myarray.append(a[i])\n",
    "            i+=1\n",
    "\n",
    "        elif(b[j]<a[i]):\n",
    "            myarray.append(b[j])\n",
    "            j+=1\n",
    "    return myarray\n",
    "\n",
    "a = [1,3,4,6,20]\n",
    "b = [2,3,4,5,6,9,11,76]\n",
    "x = mergearray1(a,b)\n",
    "print(x)"
   ],
   "metadata": {
    "collapsed": false,
    "pycharm": {
     "name": "#%%\n"
    }
   }
  },
  {
   "cell_type": "markdown",
   "source": [
    "## Hash tables"
   ],
   "metadata": {
    "collapsed": false
   }
  },
  {
   "cell_type": "code",
   "execution_count": null,
   "outputs": [],
   "source": [
    "# First recurring character\n",
    "def func(mylist):\n",
    "\n",
    "  for i in range(0,len(mylist)):\n",
    "    for j in range(i+1,len(mylist)):\n",
    "      if mylist[i] == mylist[j]:\n",
    "        return mylist[i]\n",
    "  return 0\n",
    "\n",
    "def hashtable(mylist):\n",
    "  mydict = {}\n",
    "  for i in range(0,len(mylist)):\n",
    "    if mylist[i] in mydict:\n",
    "      return mylist[i]\n",
    "    else:\n",
    "      mydict[mylist[i]]=i\n",
    "  return 0\n",
    "\n",
    "\n",
    "mylist = [2,1,1,2,3,4,5]\n",
    "x = hashtable(mylist)\n",
    "print(x)"
   ],
   "metadata": {
    "collapsed": false,
    "pycharm": {
     "name": "#%%\n"
    }
   }
  },
  {
   "cell_type": "code",
   "execution_count": null,
   "outputs": [],
   "source": [
    "# Implementing hash tables\n",
    "class Hashtable:\n",
    "    def __init__(self):\n",
    "        \"\"\"\n",
    "        Create an array(self.mydict) with a bucket size - which is derived from the load factor.\n",
    "        The Load factor is a measure that decides when to increase the HashMap capacity to maintain the get() and put() operation complexity of O(1).\n",
    "        The default load factor of HashMap is 0.75f (75% of the map size).\n",
    "        Load Factor = (n/k)\n",
    "        where n is the number of max number of elements that can be stored dict\n",
    "        k is the bucket size\n",
    "        Optimal Load factor is around (2/3) such that the effect of hash collisions is minimum\n",
    "        \"\"\"\n",
    "        self.bucket = 16\n",
    "        self.hashmap = [[] for i in range(self.bucket)]\n",
    "\n",
    "    def __str__(self):\n",
    "        return str(self.__dict__)\n",
    "\n",
    "    def hash(self, key):\n",
    "        return len(key) % self.bucket\n",
    "\n",
    "    def put(self, key, value):\n",
    "        \"\"\"\n",
    "        value may already be present\n",
    "        \"\"\"\n",
    "        hash_value = self.hash(key)\n",
    "        reference = self.hashmap[hash_value]\n",
    "        for i in range(len(reference)):\n",
    "            if reference[i][0] == key:\n",
    "                reference[i][1] = value\n",
    "                return None\n",
    "        reference.append([key, value])\n",
    "        return None\n",
    "\n",
    "    def get(self, key):\n",
    "        \"\"\"\n",
    "        Returns the value to which the specified key is mapped, or -1 if this map contains no mapping for the key\n",
    "        \"\"\"\n",
    "        hash_value = self.hash(key)\n",
    "        reference = self.hashmap[hash_value]\n",
    "        for i in range(len(reference)):\n",
    "            if reference[i][0] == key:\n",
    "                return reference[i][1]\n",
    "        return -1\n",
    "\n",
    "    def remove(self, key):\n",
    "        \"\"\"\n",
    "        Removes the mapping of the specified value key if this map contains a mapping for the key\n",
    "        \"\"\"\n",
    "        hash_value = self.hash(key)\n",
    "        reference = self.hashmap[hash_value]\n",
    "        for i in range(len(reference)):\n",
    "            if reference[i][0] == key:\n",
    "                reference.pop(i)\n",
    "                return None\n",
    "        return None\n",
    "\n",
    "h=Hashtable()\n",
    "h.put('grapes',1000)\n",
    "h.put('apples',10)\n",
    "h.put('ora',300)\n",
    "h.put('banan',200)\n",
    "print(h.get('grapes'))\n",
    "print(h)\n",
    "h.remove('apples')\n",
    "print(h)\n",
    "'''"
   ],
   "metadata": {
    "collapsed": false,
    "pycharm": {
     "name": "#%%\n"
    }
   }
  },
  {
   "cell_type": "markdown",
   "source": [
    "## Linked Lists"
   ],
   "metadata": {
    "collapsed": false
   }
  },
  {
   "cell_type": "code",
   "execution_count": 1,
   "metadata": {},
   "outputs": [],
   "source": [
    "class Node():\n",
    "    \n",
    "    def __init__(self, data):\n",
    "        self.data = data\n",
    "        self.next = None\n",
    "        \n",
    "class LinkedList():\n",
    "    \n",
    "    def __init__(self):\n",
    "        self.data = None\n",
    "        self.next = None\n",
    "    \n",
    "    def append(self,data):\n",
    "        new_node = Node(data)\n",
    "        if self.head == None:\n",
    "            self.head = new_node\n",
    "            self.tail = self.head\n",
    "            self.length = 1\n",
    "        else:\n",
    "            self.tail.next = new_node\n",
    "            self.tail = new_node\n",
    "            self.length+=1\n",
    "    \n",
    "    def prepend(self,data):\n",
    "        new_node = Node(data)\n",
    "        new_node.next = self.head\n",
    "        self.head = new_node\n",
    "        self.length+=1\n",
    "        \n",
    "    def insert(self,index,data):\n",
    "        new_node = Node(data)\n",
    "        i = 0\n",
    "        temp = self.head\n",
    "        if index>=self.lenth:\n",
    "            self.append(data)\n",
    "            return\n",
    "        if index == 0:\n",
    "            self.prepend(data)\n",
    "            return\n",
    "        while i<self.length:\n",
    "            if i == index-1:\n",
    "                temp.next, new_node.next = new_node, temp.next\n",
    "                self.length+=1\n",
    "                break\n",
    "            temp = temp.next\n",
    "            i+=1\n",
    "\n",
    "    def remove(self,index):\n",
    "        temp = self.head\n",
    "        i=0\n",
    "        if index>=self.length:\n",
    "            print(\"Entered wrong index\")\n",
    "\n",
    "        if index==0:\n",
    "            self.head = self.head.next\n",
    "            self.length-=1\n",
    "            return\n",
    "\n",
    "        while i<self.length:\n",
    "            if i==index-1:\n",
    "                temp.nerxt = temp.next.next\n",
    "                self.length-=1\n",
    "                break\n",
    "            i+=1\n",
    "            temp=temp.next\n",
    "\n",
    "        def printl(self):\n",
    "            temp = self.head\n",
    "            while temp!=None:\n",
    "                print(temp.data, end = '')\n",
    "                temp = temo.next\n",
    "            print()\n",
    "            print('Length='+str(self.length))\n",
    "\n",
    "        def reverse(self):\n",
    "            prev = None\n",
    "            self.tail = self.head\n",
    "            while self.head != None:\n",
    "                temp = self.head\n",
    "                self.head = self.head.next\n",
    "                self.head = temp\n",
    "\n",
    "l = LinkedList()\n",
    "l.append(10)\n",
    "l.append(5)\n",
    "l.append(6)\n",
    "l.prepend(1)\n",
    "l.insert(2,99)\n",
    "l.insert(34,23)\n",
    "l.remove(5)\n",
    "l.reverse()\n",
    "l.printl()\n",
    "print(l.head.data, l.tail.data)"
   ]
  },
  {
   "cell_type": "code",
   "execution_count": null,
   "metadata": {},
   "outputs": [],
   "source": []
  }
 ],
 "metadata": {
  "kernelspec": {
   "display_name": "Python 3",
   "language": "python",
   "name": "python3"
  },
  "language_info": {
   "codemirror_mode": {
    "name": "ipython",
    "version": 3
   },
   "file_extension": ".py",
   "mimetype": "text/x-python",
   "name": "python",
   "nbconvert_exporter": "python",
   "pygments_lexer": "ipython3",
   "version": "3.8.3"
  }
 },
 "nbformat": 4,
 "nbformat_minor": 4
}