{
 "cells": [
  {
   "cell_type": "code",
   "execution_count": 2,
   "metadata": {},
   "outputs": [
    {
     "name": "stdout",
     "output_type": "stream",
     "text": [
      "['a', 'b', 'c', 'd', 'e']\n"
     ]
    }
   ],
   "source": [
    "# strings\n",
    "strings = ['a', 'b', 'c', 'd']\n",
    "\n",
    "#push\n",
    "strings.append('e')\n",
    "\n",
    "print(strings)"
   ]
  },
  {
   "cell_type": "code",
   "execution_count": 5,
   "metadata": {},
   "outputs": [
    {
     "name": "stdout",
     "output_type": "stream",
     "text": [
      "['x', 'a', 'x', 'b', 'c', 'd', 'e']\n"
     ]
    }
   ],
   "source": [
    "strings.insert(0,'x')\n",
    "print(strings)"
   ]
  },
  {
   "cell_type": "code",
   "execution_count": 6,
   "metadata": {},
   "outputs": [
    {
     "data": {
      "text/plain": [
       "'x'"
      ]
     },
     "execution_count": 6,
     "metadata": {},
     "output_type": "execute_result"
    }
   ],
   "source": [
    "strings.pop(2)"
   ]
  },
  {
   "cell_type": "code",
   "execution_count": 7,
   "metadata": {},
   "outputs": [
    {
     "data": {
      "text/plain": [
       "['x', 'a', 'b', 'c', 'd', 'e']"
      ]
     },
     "execution_count": 7,
     "metadata": {},
     "output_type": "execute_result"
    }
   ],
   "source": [
    "strings"
   ]
  },
  {
   "cell_type": "code",
   "execution_count": 10,
   "metadata": {},
   "outputs": [],
   "source": [
    "strings.insert(2, 'alien')"
   ]
  },
  {
   "cell_type": "code",
   "execution_count": 11,
   "metadata": {},
   "outputs": [
    {
     "name": "stdout",
     "output_type": "stream",
     "text": [
      "['x', 'a', 'alien', 'b', 'c', 'd', 'e']\n"
     ]
    }
   ],
   "source": [
    "print(strings)"
   ]
  },
  {
   "cell_type": "code",
   "execution_count": 12,
   "metadata": {},
   "outputs": [
    {
     "data": {
      "text/plain": [
       "'x'"
      ]
     },
     "execution_count": 12,
     "metadata": {},
     "output_type": "execute_result"
    }
   ],
   "source": [
    "strings.pop(0)"
   ]
  },
  {
   "cell_type": "code",
   "execution_count": 13,
   "metadata": {},
   "outputs": [
    {
     "name": "stdout",
     "output_type": "stream",
     "text": [
      "['a', 'alien', 'b', 'c', 'd', 'e']\n"
     ]
    }
   ],
   "source": [
    "print(strings)"
   ]
  },
  {
   "cell_type": "code",
   "execution_count": 5,
   "metadata": {},
   "outputs": [
    {
     "name": "stdout",
     "output_type": "stream",
     "text": [
      "<__main__.Array object at 0x000001DA00F33160>\n"
     ]
    }
   ],
   "source": [
    "class Array:\n",
    "    def __init__(self):\n",
    "        self.length = 0\n",
    "        self.data = {}\n",
    "        \n",
    "    def get(self, index):\n",
    "        return self.data[index]\n",
    "        \n",
    "    def push(self,item):\n",
    "        self.data[self.length] = item\n",
    "        self.length+=1\n",
    "        \n",
    "    def pop():\n",
    "        lastitem = self.data[self.length-1]\n",
    "        del self.data[self.length-1]\n",
    "        self.length-=1\n",
    "        return lastitem\n",
    "    \n",
    "    def delete(self, index):\n",
    "        deleteditem = self.data[index]\n",
    "        \n",
    "        for i in range(index, self.length-1):\n",
    "            self.data[i] = self.data[i+1]\n",
    "        \n",
    "        del self.data[self.length-1]\n",
    "        self.length-=1\n",
    "        return deleteditem\n",
    "    \n",
    "arr=Array()\n",
    "arr.push(3)\n",
    "arr.push('hi')\n",
    "arr.push(34)\n",
    "arr.push(20)\n",
    "arr.push('hey')\n",
    "arr.push('welcome')\n",
    "arr.delete(3)\n",
    "print(arr)"
   ]
  },
  {
   "cell_type": "code",
   "execution_count": 6,
   "metadata": {},
   "outputs": [
    {
     "name": "stdout",
     "output_type": "stream",
     "text": [
      "<__main__.Array object at 0x000001DA00F33160>\n"
     ]
    }
   ],
   "source": [
    "print(arr)"
   ]
  },
  {
   "cell_type": "code",
   "execution_count": 17,
   "metadata": {},
   "outputs": [
    {
     "name": "stdout",
     "output_type": "stream",
     "text": [
      "['l', 'l', 'l', 'o', 'K', ' ', 's', 'i', ' ', 'e', 'm', 'a', 'n', ' ', 'y', 'M']\n"
     ]
    }
   ],
   "source": [
    "# Reversing a string\n",
    "def reverse(stri):\n",
    "    mylist = []\n",
    "    for i in range(len(stri)-1,-1,-1):\n",
    "        mylist.append(stri[i])\n",
    "        b = str(mylist)\n",
    "    return b\n",
    "x = reverse(\"My name is Kolll\")\n",
    "print(x)"
   ]
  },
  {
   "cell_type": "code",
   "execution_count": 11,
   "metadata": {},
   "outputs": [
    {
     "name": "stdout",
     "output_type": "stream",
     "text": [
      "[1, 2, 3, 4, 5]\n",
      "[1, 2, 3, 4, 5]\n"
     ]
    }
   ],
   "source": [
    "list1 = [1,2,3,4,5]\n",
    "print(list1)\n",
    "print(str(list1))"
   ]
  },
  {
   "cell_type": "code",
   "execution_count": 14,
   "metadata": {},
   "outputs": [
    {
     "name": "stdout",
     "output_type": "stream",
     "text": [
      "<class 'str'>\n"
     ]
    }
   ],
   "source": [
    "print(type(str(list1)))"
   ]
  },
  {
   "cell_type": "code",
   "execution_count": 15,
   "metadata": {},
   "outputs": [
    {
     "name": "stdout",
     "output_type": "stream",
     "text": [
      "<class 'int'>\n"
     ]
    }
   ],
   "source": [
    "a = 20\n",
    "print(type(a))"
   ]
  },
  {
   "cell_type": "code",
   "execution_count": 16,
   "metadata": {},
   "outputs": [
    {
     "name": "stdout",
     "output_type": "stream",
     "text": [
      "20\n"
     ]
    }
   ],
   "source": [
    "b = str(a)\n",
    "print(b)"
   ]
  },
  {
   "cell_type": "code",
   "execution_count": null,
   "metadata": {},
   "outputs": [],
   "source": [
    "str1= '[1, 2, 3, 4, 5]'\n",
    "print(str1)"
   ]
  }
 ],
 "metadata": {
  "kernelspec": {
   "display_name": "Python 3",
   "language": "python",
   "name": "python3"
  },
  "language_info": {
   "codemirror_mode": {
    "name": "ipython",
    "version": 3
   },
   "file_extension": ".py",
   "mimetype": "text/x-python",
   "name": "python",
   "nbconvert_exporter": "python",
   "pygments_lexer": "ipython3",
   "version": "3.8.3"
  }
 },
 "nbformat": 4,
 "nbformat_minor": 4
}
