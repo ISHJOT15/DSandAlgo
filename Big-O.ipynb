{
 "cells": [
  {
   "cell_type": "code",
   "execution_count": 17,
   "metadata": {},
   "outputs": [
    {
     "name": "stdout",
     "output_type": "stream",
     "text": [
      "Wall time: 0 ns\n",
      "Wall time: 0 ns\n",
      "Found Nemo!\n"
     ]
    }
   ],
   "source": [
    "nemo = ['nemo']\n",
    "everyone = ['dury', 'bruce', 'marlin', 'nemo', 'gill', 'bloat', 'nigel', 'squirt', 'darla', 'hank']\n",
    "\n",
    "%time\n",
    "def find_nemo(array):\n",
    "    for i in range(len(array)):\n",
    "        if(array[i] == 'nemo'):\n",
    "            print('Found Nemo!')\n",
    "%time    \n",
    "find_nemo(everyone)"
   ]
  },
  {
   "cell_type": "code",
   "execution_count": 1,
   "metadata": {},
   "outputs": [
    {
     "name": "stdout",
     "output_type": "stream",
     "text": [
      "0\n",
      "1\n"
     ]
    }
   ],
   "source": [
    "boxes = [0,1,2,3,4,5]\n",
    "\n",
    "def first_boxes(box):\n",
    "    print(box[0])  # O(1)\n",
    "    print(box[1])  # O(1)\n",
    "    \n",
    "first_boxes(boxes)  # O(2)"
   ]
  },
  {
   "cell_type": "code",
   "execution_count": null,
   "metadata": {},
   "outputs": [],
   "source": []
  }
 ],
 "metadata": {
  "kernelspec": {
   "display_name": "Python 3",
   "language": "python",
   "name": "python3"
  },
  "language_info": {
   "codemirror_mode": {
    "name": "ipython",
    "version": 3
   },
   "file_extension": ".py",
   "mimetype": "text/x-python",
   "name": "python",
   "nbconvert_exporter": "python",
   "pygments_lexer": "ipython3",
   "version": "3.8.3"
  }
 },
 "nbformat": 4,
 "nbformat_minor": 4
}
